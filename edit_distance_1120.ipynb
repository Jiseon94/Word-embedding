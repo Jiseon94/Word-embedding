{
 "cells": [
  {
   "cell_type": "markdown",
   "metadata": {},
   "source": [
    "# edit distance"
   ]
  },
  {
   "cell_type": "markdown",
   "metadata": {},
   "source": [
    "- https://lovit.github.io/nlp/2018/08/28/levenshtein_hangle/\n",
    "\n",
    "단어, 혹은 문장과 같은 string 간의 형태적 유사성을 정의하는 방법을 string distance 라 합니다. Edit distance 라는 별명을 지닌 Levenshtein distance 는 대표적인 string distance metric 중 하나입니다. 그러나 Levenshtein distance 는 한국어처럼 각 글자가 요소들 (초/중/종성)로 이뤄진 언어를 고려한 metric 이 아닙니다.\n",
    "\n",
    "가장 적은 비용이 드는 수정 방법을 찾는 것이 Levenshtein distance 의 목표"
   ]
  },
  {
   "cell_type": "code",
   "execution_count": 2,
   "metadata": {},
   "outputs": [],
   "source": [
    "def levenshtein(s1, s2, debug=False):\n",
    "    if len(s1) < len(s2):\n",
    "        return levenshtein(s2, s1, debug)\n",
    "    \n",
    "    if len(s2) ==0:\n",
    "        return len(s1)\n",
    "    \n",
    "    previous_row = range(len(s2) +1)\n",
    "    for i, c1 in enumerate(s1):\n",
    "        current_row = [i+1]\n",
    "        for j, c2 in enumerate(s2) :\n",
    "            insertions = previous_row[j+1]+1\n",
    "            deletions = current_row[j]+1\n",
    "            substitutions = previous_row[j] + (c1 != c2)\n",
    "            current_row.append(min(insertions, deletions, substitutions))\n",
    "\n",
    "        if debug:\n",
    "            print(current_row[1:])\n",
    "\n",
    "        previous_row = current_row\n",
    "    \n",
    "    return previous_row[-1]"
   ]
  },
  {
   "cell_type": "code",
   "execution_count": 3,
   "metadata": {},
   "outputs": [
    {
     "name": "stdout",
     "output_type": "stream",
     "text": [
      "[1, 2, 3, 4, 5]\n",
      "[2, 2, 3, 4, 5]\n",
      "[3, 3, 3, 4, 5]\n",
      "[4, 4, 4, 4, 5]\n",
      "[4, 5, 5, 4, 5]\n",
      "[5, 4, 5, 5, 4]\n"
     ]
    },
    {
     "data": {
      "text/plain": [
       "4"
      ]
     },
     "execution_count": 3,
     "metadata": {},
     "output_type": "execute_result"
    }
   ],
   "source": [
    "s1 = '꿈을꾸는아이'\n",
    "s2 = '아이오아이'\n",
    "levenshtein(s1, s2, debug=True)"
   ]
  },
  {
   "cell_type": "code",
   "execution_count": 4,
   "metadata": {},
   "outputs": [
    {
     "name": "stdout",
     "output_type": "stream",
     "text": [
      "[0, 1, 2]\n",
      "[1, 0, 1]\n",
      "[2, 1, 1]\n",
      "[3, 2, 2]\n",
      "[4, 3, 3]\n"
     ]
    },
    {
     "data": {
      "text/plain": [
       "3"
      ]
     },
     "execution_count": 4,
     "metadata": {},
     "output_type": "execute_result"
    }
   ],
   "source": [
    "s1 = '아이돌'\n",
    "s2 = '아이오아이'\n",
    "levenshtein(s1, s2, debug=True)"
   ]
  },
  {
   "cell_type": "code",
   "execution_count": 5,
   "metadata": {},
   "outputs": [
    {
     "name": "stdout",
     "output_type": "stream",
     "text": [
      "[1, 2, 3, 4, 5, 6, 6, 7]\n",
      "[2, 2, 3, 4, 5, 6, 7, 6]\n",
      "[3, 3, 3, 4, 4, 5, 6, 7]\n",
      "[4, 4, 3, 4, 5, 4, 5, 6]\n",
      "[4, 5, 4, 4, 5, 5, 5, 6]\n",
      "[5, 4, 5, 5, 5, 6, 6, 6]\n",
      "[6, 5, 4, 5, 6, 5, 6, 7]\n",
      "[7, 6, 5, 5, 6, 6, 6, 7]\n",
      "[8, 7, 6, 6, 6, 7, 7, 7]\n"
     ]
    },
    {
     "data": {
      "text/plain": [
       "7"
      ]
     },
     "execution_count": 5,
     "metadata": {},
     "output_type": "execute_result"
    }
   ],
   "source": [
    "s1 = '꿈을 꾸는 아이'\n",
    "s2 = '아이는 꿈을 꿔요'\n",
    "levenshtein(s1, s2, debug=True)"
   ]
  },
  {
   "cell_type": "code",
   "execution_count": 6,
   "metadata": {},
   "outputs": [
    {
     "name": "stdout",
     "output_type": "stream",
     "text": [
      "[1, 1, 2]\n",
      "[2, 2, 2]\n",
      "[3, 3, 3]\n"
     ]
    },
    {
     "data": {
      "text/plain": [
       "3"
      ]
     },
     "execution_count": 6,
     "metadata": {},
     "output_type": "execute_result"
    }
   ],
   "source": [
    "# 어절 단위\n",
    "s1 = '꿈을 꾸는 아이'\n",
    "s2 = '아이는 꿈을 꿔요'\n",
    "levenshtein(s1.split(), s2.split(), debug=True)"
   ]
  },
  {
   "cell_type": "code",
   "execution_count": null,
   "metadata": {},
   "outputs": [],
   "source": []
  }
 ],
 "metadata": {
  "kernelspec": {
   "display_name": "Python 3",
   "language": "python",
   "name": "python3"
  },
  "language_info": {
   "codemirror_mode": {
    "name": "ipython",
    "version": 3
   },
   "file_extension": ".py",
   "mimetype": "text/x-python",
   "name": "python",
   "nbconvert_exporter": "python",
   "pygments_lexer": "ipython3",
   "version": "3.10.1"
  }
 },
 "nbformat": 4,
 "nbformat_minor": 2
}
