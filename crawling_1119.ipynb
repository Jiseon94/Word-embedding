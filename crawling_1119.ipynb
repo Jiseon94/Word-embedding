{
 "cells": [
  {
   "cell_type": "code",
   "execution_count": 3,
   "metadata": {},
   "outputs": [],
   "source": [
    "html = '''\n",
    "<div id=\"result1\">\n",
    "<p class=row>\n",
    "<a class=\"red\" href=\"/link1\">링크1</a>\n",
    "<a class=\"blue\" href=\"/link2\">링크2</a>\n",
    "</p>\n",
    "<p class=row>\n",
    "<a class=\"red\" href=\"/link1\">링크1</a>\n",
    "<a class=\"blue\" href=\"/link2\">링크2</a>\n",
    "</p>\n",
    "</div>\n",
    "<div id=\"result2\">\n",
    "<p class=row>\n",
    "<a class=\"red\" href=\"/link1\">링크1</a>\n",
    "<a class=\"blue\" href=\"/link2\">링크2</a>\n",
    "</p>\n",
    "<p class=row>\n",
    "<a class=\"red\" href=\"/link1\">링크1</a>\n",
    "<a class=\"blue\" href=\"/link2\">링크2</a>\n",
    "</p>\n",
    "</div>\n",
    "'''"
   ]
  },
  {
   "cell_type": "code",
   "execution_count": 4,
   "metadata": {},
   "outputs": [],
   "source": [
    "from bs4 import BeautifulSoup\n",
    "\n",
    "dom = BeautifulSoup(html, 'html5lib')"
   ]
  },
  {
   "cell_type": "code",
   "execution_count": 5,
   "metadata": {},
   "outputs": [
    {
     "data": {
      "text/plain": [
       "[<a class=\"red\" href=\"/link1\">링크1</a>, <a class=\"blue\" href=\"/link2\">링크2</a>]"
      ]
     },
     "execution_count": 5,
     "metadata": {},
     "output_type": "execute_result"
    }
   ],
   "source": [
    "div = dom.find(attrs={'id':'result1'})\n",
    "p = div.find(recursive=False)\n",
    "p.find_all(recursive=False)"
   ]
  },
  {
   "cell_type": "code",
   "execution_count": 6,
   "metadata": {},
   "outputs": [
    {
     "data": {
      "text/plain": [
       "[<a class=\"red\" href=\"/link1\">링크1</a>, <a class=\"blue\" href=\"/link2\">링크2</a>]"
      ]
     },
     "execution_count": 6,
     "metadata": {},
     "output_type": "execute_result"
    }
   ],
   "source": [
    "div = dom.select_one('#result1')\n",
    "p = div.select_one('p')\n",
    "p.select('a')"
   ]
  },
  {
   "cell_type": "code",
   "execution_count": 7,
   "metadata": {},
   "outputs": [
    {
     "data": {
      "text/plain": [
       "[<a class=\"red\" href=\"/link1\">링크1</a>,\n",
       " <a class=\"blue\" href=\"/link2\">링크2</a>,\n",
       " <a class=\"red\" href=\"/link1\">링크1</a>,\n",
       " <a class=\"blue\" href=\"/link2\">링크2</a>]"
      ]
     },
     "execution_count": 7,
     "metadata": {},
     "output_type": "execute_result"
    }
   ],
   "source": [
    "dom.select('#result1 > p > a')\n",
    "# id=result1\n",
    "# <p> 자식\n",
    "#  <a></a>\n",
    "#  <a></a>\n",
    "# </p>\n",
    "# <p> 자식\n",
    "#  <a></a>\n",
    "#  <a></a>\n",
    "# </p>"
   ]
  },
  {
   "cell_type": "code",
   "execution_count": 8,
   "metadata": {},
   "outputs": [
    {
     "data": {
      "text/plain": [
       "[<a class=\"red\" href=\"/link1\">링크1</a>, <a class=\"blue\" href=\"/link2\">링크2</a>]"
      ]
     },
     "execution_count": 8,
     "metadata": {},
     "output_type": "execute_result"
    }
   ],
   "source": [
    "dom.select('#result1 > p:first-child > a')\n",
    "dom.select('#result1 > p:nth-child(1) > a')"
   ]
  },
  {
   "cell_type": "code",
   "execution_count": 9,
   "metadata": {},
   "outputs": [
    {
     "data": {
      "text/plain": [
       "[<a class=\"red\" href=\"/link1\">링크1</a>, <a class=\"blue\" href=\"/link2\">링크2</a>]"
      ]
     },
     "execution_count": 9,
     "metadata": {},
     "output_type": "execute_result"
    }
   ],
   "source": [
    "# +; next_sibling\n",
    "# p + p(*)\n",
    "# (*)p:has(+ p)\n",
    "dom.select('#result1 > p:has(+ p) > a')\n",
    "dom.select('#result1 > p + p > a')"
   ]
  },
  {
   "cell_type": "code",
   "execution_count": 10,
   "metadata": {},
   "outputs": [
    {
     "data": {
      "text/plain": [
       "False"
      ]
     },
     "execution_count": 10,
     "metadata": {},
     "output_type": "execute_result"
    }
   ],
   "source": [
    "dom.select('#result1 > p:has(+ p) > a')[0]\\\n",
    " is dom.select('#result1 > p + p > a')[0]"
   ]
  },
  {
   "cell_type": "code",
   "execution_count": 13,
   "metadata": {},
   "outputs": [
    {
     "data": {
      "text/plain": [
       "[]"
      ]
     },
     "execution_count": 13,
     "metadata": {},
     "output_type": "execute_result"
    }
   ],
   "source": [
    "dom.select('article a')"
   ]
  },
  {
   "cell_type": "code",
   "execution_count": 14,
   "metadata": {},
   "outputs": [],
   "source": [
    "from requests import request\n",
    "from requests.exceptions import HTTPError\n",
    "from time import sleep\n",
    "\n",
    "def download(url, params={}, method='GET', retries=3):\n",
    "    resp = None\n",
    "    \n",
    "    try:\n",
    "        resp = request(method, url,\n",
    "                       params=params if method=='GET' else {},\n",
    "                       data=params if method=='POST' else {},\n",
    "                       headers={'user-agent':'Mozilla/5.0 (Windows NT 10.0; Win64; x64) AppleWebKit/537.36 (KHTML, like Gecko) Chrome/119.0.0.0 Safari/537.36'})\n",
    "        resp.raise_for_status()\n",
    "        # 아니면,\n",
    "        # if resp.status_code != 200:\n",
    "    except HTTPError as e:\n",
    "        if 500 <= e.response.status_code:\n",
    "            if retries > 0:\n",
    "                sleep(3)\n",
    "                resp = download(url, params=params,\n",
    "                                method=method,\n",
    "                                retries=retries-1)\n",
    "            else:\n",
    "                print('재방문 횟수 초과')\n",
    "        else:\n",
    "            print('Request', resp.request.headers)\n",
    "            print('Response', e.response.headers)\n",
    "        \n",
    "    return resp"
   ]
  },
  {
   "cell_type": "code",
   "execution_count": null,
   "metadata": {},
   "outputs": [],
   "source": []
  }
 ],
 "metadata": {
  "kernelspec": {
   "display_name": "Python 3",
   "language": "python",
   "name": "python3"
  },
  "language_info": {
   "codemirror_mode": {
    "name": "ipython",
    "version": 3
   },
   "file_extension": ".py",
   "mimetype": "text/x-python",
   "name": "python",
   "nbconvert_exporter": "python",
   "pygments_lexer": "ipython3",
   "version": "3.10.1"
  }
 },
 "nbformat": 4,
 "nbformat_minor": 2
}
